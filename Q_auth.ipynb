{
  "nbformat": 4,
  "nbformat_minor": 0,
  "metadata": {
    "colab": {
      "provenance": [],
      "authorship_tag": "ABX9TyMnrxpKBQWlWPEnJAzOsZmn",
      "include_colab_link": true
    },
    "kernelspec": {
      "name": "python3",
      "display_name": "Python 3"
    },
    "language_info": {
      "name": "python"
    }
  },
  "cells": [
    {
      "cell_type": "markdown",
      "metadata": {
        "id": "view-in-github",
        "colab_type": "text"
      },
      "source": [
        "<a href=\"https://colab.research.google.com/github/pythagoras58/Quantizer/blob/main/Q_auth.ipynb\" target=\"_parent\"><img src=\"https://colab.research.google.com/assets/colab-badge.svg\" alt=\"Open In Colab\"/></a>"
      ]
    },
    {
      "cell_type": "code",
      "source": [
        "!pip install qiskit\n",
        "!pip install qiskit-aer"
      ],
      "metadata": {
        "colab": {
          "base_uri": "https://localhost:8080/"
        },
        "id": "edxP8rbVIXuH",
        "outputId": "de45440b-7c02-4381-f47f-dd4214f2a099"
      },
      "execution_count": 5,
      "outputs": [
        {
          "output_type": "stream",
          "name": "stdout",
          "text": [
            "Requirement already satisfied: qiskit in /usr/local/lib/python3.10/dist-packages (1.2.0)\n",
            "Requirement already satisfied: rustworkx>=0.15.0 in /usr/local/lib/python3.10/dist-packages (from qiskit) (0.15.1)\n",
            "Requirement already satisfied: numpy<3,>=1.17 in /usr/local/lib/python3.10/dist-packages (from qiskit) (1.26.4)\n",
            "Requirement already satisfied: scipy>=1.5 in /usr/local/lib/python3.10/dist-packages (from qiskit) (1.13.1)\n",
            "Requirement already satisfied: sympy>=1.3 in /usr/local/lib/python3.10/dist-packages (from qiskit) (1.13.2)\n",
            "Requirement already satisfied: dill>=0.3 in /usr/local/lib/python3.10/dist-packages (from qiskit) (0.3.8)\n",
            "Requirement already satisfied: python-dateutil>=2.8.0 in /usr/local/lib/python3.10/dist-packages (from qiskit) (2.8.2)\n",
            "Requirement already satisfied: stevedore>=3.0.0 in /usr/local/lib/python3.10/dist-packages (from qiskit) (5.3.0)\n",
            "Requirement already satisfied: typing-extensions in /usr/local/lib/python3.10/dist-packages (from qiskit) (4.12.2)\n",
            "Requirement already satisfied: symengine>=0.11 in /usr/local/lib/python3.10/dist-packages (from qiskit) (0.11.0)\n",
            "Requirement already satisfied: six>=1.5 in /usr/local/lib/python3.10/dist-packages (from python-dateutil>=2.8.0->qiskit) (1.16.0)\n",
            "Requirement already satisfied: pbr>=2.0.0 in /usr/local/lib/python3.10/dist-packages (from stevedore>=3.0.0->qiskit) (6.1.0)\n",
            "Requirement already satisfied: mpmath<1.4,>=1.1.0 in /usr/local/lib/python3.10/dist-packages (from sympy>=1.3->qiskit) (1.3.0)\n",
            "Collecting qiskit-aer\n",
            "  Downloading qiskit_aer-0.15.0-cp310-cp310-manylinux_2_17_x86_64.manylinux2014_x86_64.whl.metadata (8.0 kB)\n",
            "Requirement already satisfied: qiskit>=1.1.0 in /usr/local/lib/python3.10/dist-packages (from qiskit-aer) (1.2.0)\n",
            "Requirement already satisfied: numpy>=1.16.3 in /usr/local/lib/python3.10/dist-packages (from qiskit-aer) (1.26.4)\n",
            "Requirement already satisfied: scipy>=1.0 in /usr/local/lib/python3.10/dist-packages (from qiskit-aer) (1.13.1)\n",
            "Requirement already satisfied: psutil>=5 in /usr/local/lib/python3.10/dist-packages (from qiskit-aer) (5.9.5)\n",
            "Requirement already satisfied: rustworkx>=0.15.0 in /usr/local/lib/python3.10/dist-packages (from qiskit>=1.1.0->qiskit-aer) (0.15.1)\n",
            "Requirement already satisfied: sympy>=1.3 in /usr/local/lib/python3.10/dist-packages (from qiskit>=1.1.0->qiskit-aer) (1.13.2)\n",
            "Requirement already satisfied: dill>=0.3 in /usr/local/lib/python3.10/dist-packages (from qiskit>=1.1.0->qiskit-aer) (0.3.8)\n",
            "Requirement already satisfied: python-dateutil>=2.8.0 in /usr/local/lib/python3.10/dist-packages (from qiskit>=1.1.0->qiskit-aer) (2.8.2)\n",
            "Requirement already satisfied: stevedore>=3.0.0 in /usr/local/lib/python3.10/dist-packages (from qiskit>=1.1.0->qiskit-aer) (5.3.0)\n",
            "Requirement already satisfied: typing-extensions in /usr/local/lib/python3.10/dist-packages (from qiskit>=1.1.0->qiskit-aer) (4.12.2)\n",
            "Requirement already satisfied: symengine>=0.11 in /usr/local/lib/python3.10/dist-packages (from qiskit>=1.1.0->qiskit-aer) (0.11.0)\n",
            "Requirement already satisfied: six>=1.5 in /usr/local/lib/python3.10/dist-packages (from python-dateutil>=2.8.0->qiskit>=1.1.0->qiskit-aer) (1.16.0)\n",
            "Requirement already satisfied: pbr>=2.0.0 in /usr/local/lib/python3.10/dist-packages (from stevedore>=3.0.0->qiskit>=1.1.0->qiskit-aer) (6.1.0)\n",
            "Requirement already satisfied: mpmath<1.4,>=1.1.0 in /usr/local/lib/python3.10/dist-packages (from sympy>=1.3->qiskit>=1.1.0->qiskit-aer) (1.3.0)\n",
            "Downloading qiskit_aer-0.15.0-cp310-cp310-manylinux_2_17_x86_64.manylinux2014_x86_64.whl (12.3 MB)\n",
            "\u001b[2K   \u001b[90m━━━━━━━━━━━━━━━━━━━━━━━━━━━━━━━━━━━━━━━━\u001b[0m \u001b[32m12.3/12.3 MB\u001b[0m \u001b[31m41.5 MB/s\u001b[0m eta \u001b[36m0:00:00\u001b[0m\n",
            "\u001b[?25hInstalling collected packages: qiskit-aer\n",
            "Successfully installed qiskit-aer-0.15.0\n"
          ]
        }
      ]
    },
    {
      "cell_type": "code",
      "execution_count": 6,
      "metadata": {
        "id": "SnZ1zlWaINCZ"
      },
      "outputs": [],
      "source": [
        "from qiskit import QuantumCircuit, transpile\n",
        "from qiskit_aer import AerSimulator"
      ]
    },
    {
      "cell_type": "markdown",
      "source": [
        "# **Step one**"
      ],
      "metadata": {
        "id": "a1FwbIaMJZAX"
      }
    },
    {
      "cell_type": "code",
      "source": [
        "# Step 1: Key Generation (BB84 Protocol)\n",
        "def generate_bb84_key(n):\n",
        "    # Generate random bases and bits\n",
        "    bases = np.random.randint(2, size=n)  # 0 for Z-basis, 1 for X-basis\n",
        "    bits = np.random.randint(2, size=n)   # Random bits 0 or 1\n",
        "    return bases, bits\n",
        "\n",
        "def prepare_bb84_state(bases, bits):\n",
        "    qc = QuantumCircuit(len(bases), len(bases))\n",
        "    for i in range(len(bases)):\n",
        "        qc.initialize([1, 0], i)  # Start with |0>\n",
        "        if bits[i] == 1:\n",
        "            qc.x(i)  # Apply X if bit is 1\n",
        "        if bases[i] == 1:\n",
        "            qc.h(i)  # Apply H if basis is X\n",
        "    return qc"
      ],
      "metadata": {
        "id": "e0ELxwIHJX01"
      },
      "execution_count": 7,
      "outputs": []
    },
    {
      "cell_type": "markdown",
      "source": [
        "# **Step Two**"
      ],
      "metadata": {
        "id": "x3aw3nmfJhn8"
      }
    },
    {
      "cell_type": "code",
      "source": [
        "# Step 2: Message Encoding\n",
        "def encode_message(message, key):\n",
        "    encoded_message = [m ^ k for m, k in zip(message, key)]\n",
        "    return encoded_message"
      ],
      "metadata": {
        "id": "27FaGfrAJlh2"
      },
      "execution_count": 8,
      "outputs": []
    },
    {
      "cell_type": "markdown",
      "source": [
        "# **Step three**"
      ],
      "metadata": {
        "id": "-RsNPfdiJrix"
      }
    },
    {
      "cell_type": "code",
      "source": [
        "# Step 3: Message Transmission\n",
        "def transmit_message(encoded_message):\n",
        "    # Simulating transmission (identity operation for this example)\n",
        "    return encoded_message"
      ],
      "metadata": {
        "id": "gjq7iueXJy-3"
      },
      "execution_count": 9,
      "outputs": []
    },
    {
      "cell_type": "markdown",
      "source": [
        "# **Step four**"
      ],
      "metadata": {
        "id": "OE8PQOL8J5Nc"
      }
    },
    {
      "cell_type": "code",
      "source": [
        "# Step 4: Message Authentication\n",
        "def authenticate_message(received_message, key):\n",
        "    decoded_message = [m ^ k for m, k in zip(received_message, key)]\n",
        "    return decoded_message"
      ],
      "metadata": {
        "id": "KYBfJNSbJ8Qo"
      },
      "execution_count": 10,
      "outputs": []
    },
    {
      "cell_type": "markdown",
      "source": [
        "# **Simulation**"
      ],
      "metadata": {
        "id": "cmti4y3pKErA"
      }
    },
    {
      "cell_type": "code",
      "source": [
        "# Simulation of the protocol\n",
        "n = 4  # Number of qubits\n",
        "message = [1, 0, 1, 1]  # Binary message to authenticate"
      ],
      "metadata": {
        "id": "s65h8Dq_KGJM"
      },
      "execution_count": 11,
      "outputs": []
    },
    {
      "cell_type": "markdown",
      "source": [
        "# **Alice's Operation**"
      ],
      "metadata": {
        "id": "6fssNN9DKn5f"
      }
    },
    {
      "cell_type": "code",
      "source": [
        "import numpy as np"
      ],
      "metadata": {
        "id": "jyattD_ILNrk"
      },
      "execution_count": 13,
      "outputs": []
    },
    {
      "cell_type": "code",
      "source": [
        "# Alice's operations\n",
        "alice_bases, alice_bits = generate_bb84_key(n)\n",
        "qc = prepare_bb84_state(alice_bases, alice_bits)\n",
        "key = alice_bits  # Simplified key for this example\n",
        "encoded_message = encode_message(message, key)"
      ],
      "metadata": {
        "id": "v9Ltv6CgKv5t"
      },
      "execution_count": 14,
      "outputs": []
    },
    {
      "cell_type": "markdown",
      "source": [
        "# **Quantum Circuit Simulation**"
      ],
      "metadata": {
        "id": "c3DkXqYDLYVh"
      }
    },
    {
      "cell_type": "code",
      "source": [
        "# Simulate the quantum circuit\n",
        "simulator = AerSimulator()\n",
        "qc = transpile(qc, simulator)\n",
        "result = simulator.run(qc).result()"
      ],
      "metadata": {
        "id": "JRqIGcvALgeh"
      },
      "execution_count": 15,
      "outputs": []
    },
    {
      "cell_type": "markdown",
      "source": [
        "# **Transmission (Simulation)**"
      ],
      "metadata": {
        "id": "eloFWmMNLsG9"
      }
    },
    {
      "cell_type": "code",
      "source": [
        "# Transmission (simulation)\n",
        "received_message = transmit_message(encoded_message)\n"
      ],
      "metadata": {
        "id": "BsY6yySwLxBr"
      },
      "execution_count": 16,
      "outputs": []
    },
    {
      "cell_type": "markdown",
      "source": [
        "# **Bob's Operation**"
      ],
      "metadata": {
        "id": "D6g3D0ZXL6yE"
      }
    },
    {
      "cell_type": "code",
      "source": [
        "# Bob's operations\n",
        "decoded_message = authenticate_message(received_message, key)"
      ],
      "metadata": {
        "id": "C3XZdhPlL-R2"
      },
      "execution_count": 17,
      "outputs": []
    },
    {
      "cell_type": "code",
      "source": [
        "# Output the results\n",
        "print(f\"Original Message: {message}\")\n",
        "print(f\"Encoded Message: {encoded_message}\")\n",
        "print(f\"Decoded Message: {decoded_message}\")"
      ],
      "metadata": {
        "colab": {
          "base_uri": "https://localhost:8080/"
        },
        "id": "d0ZplzNfMD9k",
        "outputId": "f8583319-ef6a-4f61-c320-9555d75196c5"
      },
      "execution_count": 18,
      "outputs": [
        {
          "output_type": "stream",
          "name": "stdout",
          "text": [
            "Original Message: [1, 0, 1, 1]\n",
            "Encoded Message: [1, 1, 1, 1]\n",
            "Decoded Message: [1, 0, 1, 1]\n"
          ]
        }
      ]
    },
    {
      "cell_type": "markdown",
      "source": [
        "# **Authentication Verification**"
      ],
      "metadata": {
        "id": "_e-V3hdJMKms"
      }
    },
    {
      "cell_type": "code",
      "source": [
        "# Check if authentication succeeded\n",
        "if message == decoded_message:\n",
        "    print(\"Message authenticated successfully!\")\n",
        "else:\n",
        "    print(\"Message authentication failed!\")"
      ],
      "metadata": {
        "colab": {
          "base_uri": "https://localhost:8080/"
        },
        "id": "aKUiagPJMOwF",
        "outputId": "2dde0886-e903-44d6-8203-fca4129c7d90"
      },
      "execution_count": 19,
      "outputs": [
        {
          "output_type": "stream",
          "name": "stdout",
          "text": [
            "Message authenticated successfully!\n"
          ]
        }
      ]
    },
    {
      "cell_type": "markdown",
      "source": [
        "1.** Computational Complexity**:\n",
        "Computational complexity refers to the amount of computational resources (time, space, or operations) required to execute the protocol. Here's how you can analyze it:\n",
        "\n",
        "**Quantum Circuit Operations**:\n",
        "\n",
        "**Key Generation**: The key generation involves generating random bases and bits, which is an\n",
        "𝑂(𝑛) operation, where 𝑛 is the number of qubits.\n",
        "\n",
        "**State Preparation**: The state preparation involves initializing each qubit and applying either an X gate (for flipping the bit) or an H gate (for basis change). This also takes\n",
        "𝑂(𝑛) operations.\n",
        "\n",
        "**Message Encoding and Decoding**: The encoding and decoding are classical bitwise XOR operations, which are\n",
        "𝑂(𝑛).\n",
        "\n",
        "**Quantum Circuit Execution**: The execution of the quantum circuit is dependent on the depth of the circuit and the number of gates, but for this protocol, the depth is low (essentially an initialization and a few gate operations), so the computational complexity of running the quantum circuit is\n",
        "𝑂(𝑛).\n",
        "\n",
        "Overall, the computational complexity of the quantum authentication protocol is\n",
        "𝑂(𝑛).\n",
        "\n",
        "2. **Communication Complexity**:\n",
        "Communication complexity measures the amount of data that needs to be transmitted over the quantum and classical channels.\n",
        "\n",
        "Quantum Communication:\n",
        "In this protocol, 𝑛 qubits are sent from Alice to Bob. So, the quantum communication complexity is 𝑂(𝑛).\n",
        "\n",
        "**Classical Communication**:\n",
        "Classical communication includes sending bases and possibly some classical bits for error correction or verification purposes. If the classical bits involved in the protocol are proportional to 𝑛, the classical communication complexity is also 𝑂(𝑛).\n",
        "\n",
        "3. **Overall Complexity Cost**:\n",
        "Combining the computational and communication complexity:\n",
        "\n",
        "Computational Complexity:\n",
        "𝑂(𝑛)\n",
        "\n",
        "Communication Complexity:\n",
        "Quantum:\n",
        "𝑂(𝑛)\n",
        "\n",
        "Classical:\n",
        "𝑂(𝑛)\n",
        "\n",
        "4. **Considerations for More Complex Protocols**:\n",
        "If the protocol were to include more sophisticated operations (e.g., error correction, privacy amplification, entanglement purification), the complexity could increase. For instance:\n",
        "\n",
        "**Error Correction**: Involves additional qubits and classical bits, potentially increasing complexity to\n",
        "𝑂(𝑛log𝑛) or more, depending on the code.\n",
        "\n",
        "**Privacy Amplification**: Requires additional classical computation, potentially increasing the classical complexity."
      ],
      "metadata": {
        "id": "o6xtVP-ANH9L"
      }
    },
    {
      "cell_type": "code",
      "source": [
        "# Check the number of operations and depth\n",
        "gate_count = qc.count_ops()\n",
        "circuit_depth = qc.depth()"
      ],
      "metadata": {
        "id": "D1fu58Q6Pjjo"
      },
      "execution_count": 20,
      "outputs": []
    },
    {
      "cell_type": "code",
      "source": [
        "print(\"Gate Count:\", gate_count)\n",
        "print(\"Circuit Depth:\", circuit_depth)"
      ],
      "metadata": {
        "colab": {
          "base_uri": "https://localhost:8080/"
        },
        "id": "tnWkDPyjQRw7",
        "outputId": "1a8d36ce-1476-4e33-8965-000f607d6de6"
      },
      "execution_count": 21,
      "outputs": [
        {
          "output_type": "stream",
          "name": "stdout",
          "text": [
            "Gate Count: OrderedDict([('initialize', 4), ('h', 2), ('x', 1)])\n",
            "Circuit Depth: 2\n"
          ]
        }
      ]
    },
    {
      "cell_type": "markdown",
      "source": [
        "'initialize': 4\n",
        "\n",
        "This indicates that the circuit contains 4 initialization operations. The initialize gate is used to prepare qubits in a specific state. In your protocol, it's used to start the qubits in the ∣0⟩ state.\n",
        "\n",
        "'h': 2\n",
        "This indicates that the circuit contains 2 Hadamard (H) gates.\n",
        "\n",
        "'x': 1\n",
        "This indicates that the circuit contains 1 Pauli-X (X) gate."
      ],
      "metadata": {
        "id": "H6X3YbooR4vA"
      }
    },
    {
      "cell_type": "markdown",
      "source": [
        "**Circuit Depth**: 2 means that the longest sequence of operations any single qubit undergoes is 2 gates. This is relatively low, indicating that your circuit is shallow, meaning it has low latency and is less prone to errors in a real quantum system."
      ],
      "metadata": {
        "id": "4dYlSGAlYRB4"
      }
    }
  ]
}