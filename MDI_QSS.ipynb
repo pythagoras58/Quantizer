{
  "nbformat": 4,
  "nbformat_minor": 0,
  "metadata": {
    "colab": {
      "provenance": [],
      "authorship_tag": "ABX9TyNGc0PV8TGA38bQVnooktEo",
      "include_colab_link": true
    },
    "kernelspec": {
      "name": "python3",
      "display_name": "Python 3"
    },
    "language_info": {
      "name": "python"
    }
  },
  "cells": [
    {
      "cell_type": "markdown",
      "metadata": {
        "id": "view-in-github",
        "colab_type": "text"
      },
      "source": [
        "<a href=\"https://colab.research.google.com/github/pythagoras58/Quantizer/blob/main/MDI_QSS.ipynb\" target=\"_parent\"><img src=\"https://colab.research.google.com/assets/colab-badge.svg\" alt=\"Open In Colab\"/></a>"
      ]
    },
    {
      "cell_type": "code",
      "execution_count": 1,
      "metadata": {
        "colab": {
          "base_uri": "https://localhost:8080/"
        },
        "id": "-p2jz2FKs7sS",
        "outputId": "e7b71e98-03b7-4a0b-f11e-9a0312b72f7f"
      },
      "outputs": [
        {
          "output_type": "stream",
          "name": "stdout",
          "text": [
            "Collecting qiskit\n",
            "  Downloading qiskit-1.2.4-cp38-abi3-manylinux_2_17_x86_64.manylinux2014_x86_64.whl.metadata (12 kB)\n",
            "Collecting rustworkx>=0.15.0 (from qiskit)\n",
            "  Downloading rustworkx-0.15.1-cp38-abi3-manylinux_2_17_x86_64.manylinux2014_x86_64.whl.metadata (9.9 kB)\n",
            "Requirement already satisfied: numpy<3,>=1.17 in /usr/local/lib/python3.10/dist-packages (from qiskit) (1.26.4)\n",
            "Requirement already satisfied: scipy>=1.5 in /usr/local/lib/python3.10/dist-packages (from qiskit) (1.13.1)\n",
            "Requirement already satisfied: sympy>=1.3 in /usr/local/lib/python3.10/dist-packages (from qiskit) (1.13.1)\n",
            "Collecting dill>=0.3 (from qiskit)\n",
            "  Downloading dill-0.3.9-py3-none-any.whl.metadata (10 kB)\n",
            "Requirement already satisfied: python-dateutil>=2.8.0 in /usr/local/lib/python3.10/dist-packages (from qiskit) (2.8.2)\n",
            "Collecting stevedore>=3.0.0 (from qiskit)\n",
            "  Downloading stevedore-5.3.0-py3-none-any.whl.metadata (2.3 kB)\n",
            "Requirement already satisfied: typing-extensions in /usr/local/lib/python3.10/dist-packages (from qiskit) (4.12.2)\n",
            "Collecting symengine<0.14,>=0.11 (from qiskit)\n",
            "  Downloading symengine-0.13.0-cp310-cp310-manylinux_2_17_x86_64.manylinux2014_x86_64.whl.metadata (1.2 kB)\n",
            "Requirement already satisfied: six>=1.5 in /usr/local/lib/python3.10/dist-packages (from python-dateutil>=2.8.0->qiskit) (1.16.0)\n",
            "Collecting pbr>=2.0.0 (from stevedore>=3.0.0->qiskit)\n",
            "  Downloading pbr-6.1.0-py2.py3-none-any.whl.metadata (3.4 kB)\n",
            "Requirement already satisfied: mpmath<1.4,>=1.1.0 in /usr/local/lib/python3.10/dist-packages (from sympy>=1.3->qiskit) (1.3.0)\n",
            "Downloading qiskit-1.2.4-cp38-abi3-manylinux_2_17_x86_64.manylinux2014_x86_64.whl (4.8 MB)\n",
            "\u001b[2K   \u001b[90m━━━━━━━━━━━━━━━━━━━━━━━━━━━━━━━━━━━━━━━━\u001b[0m \u001b[32m4.8/4.8 MB\u001b[0m \u001b[31m29.4 MB/s\u001b[0m eta \u001b[36m0:00:00\u001b[0m\n",
            "\u001b[?25hDownloading dill-0.3.9-py3-none-any.whl (119 kB)\n",
            "\u001b[2K   \u001b[90m━━━━━━━━━━━━━━━━━━━━━━━━━━━━━━━━━━━━━━━━\u001b[0m \u001b[32m119.4/119.4 kB\u001b[0m \u001b[31m5.7 MB/s\u001b[0m eta \u001b[36m0:00:00\u001b[0m\n",
            "\u001b[?25hDownloading rustworkx-0.15.1-cp38-abi3-manylinux_2_17_x86_64.manylinux2014_x86_64.whl (2.0 MB)\n",
            "\u001b[2K   \u001b[90m━━━━━━━━━━━━━━━━━━━━━━━━━━━━━━━━━━━━━━━━\u001b[0m \u001b[32m2.0/2.0 MB\u001b[0m \u001b[31m35.9 MB/s\u001b[0m eta \u001b[36m0:00:00\u001b[0m\n",
            "\u001b[?25hDownloading stevedore-5.3.0-py3-none-any.whl (49 kB)\n",
            "\u001b[2K   \u001b[90m━━━━━━━━━━━━━━━━━━━━━━━━━━━━━━━━━━━━━━━━\u001b[0m \u001b[32m49.7/49.7 kB\u001b[0m \u001b[31m3.1 MB/s\u001b[0m eta \u001b[36m0:00:00\u001b[0m\n",
            "\u001b[?25hDownloading symengine-0.13.0-cp310-cp310-manylinux_2_17_x86_64.manylinux2014_x86_64.whl (49.7 MB)\n",
            "\u001b[2K   \u001b[90m━━━━━━━━━━━━━━━━━━━━━━━━━━━━━━━━━━━━━━━━\u001b[0m \u001b[32m49.7/49.7 MB\u001b[0m \u001b[31m17.2 MB/s\u001b[0m eta \u001b[36m0:00:00\u001b[0m\n",
            "\u001b[?25hDownloading pbr-6.1.0-py2.py3-none-any.whl (108 kB)\n",
            "\u001b[2K   \u001b[90m━━━━━━━━━━━━━━━━━━━━━━━━━━━━━━━━━━━━━━━━\u001b[0m \u001b[32m108.5/108.5 kB\u001b[0m \u001b[31m7.7 MB/s\u001b[0m eta \u001b[36m0:00:00\u001b[0m\n",
            "\u001b[?25hInstalling collected packages: symengine, rustworkx, pbr, dill, stevedore, qiskit\n",
            "Successfully installed dill-0.3.9 pbr-6.1.0 qiskit-1.2.4 rustworkx-0.15.1 stevedore-5.3.0 symengine-0.13.0\n",
            "Collecting qiskit-aer\n",
            "  Downloading qiskit_aer-0.15.1-cp310-cp310-manylinux_2_17_x86_64.manylinux2014_x86_64.whl.metadata (8.0 kB)\n",
            "Requirement already satisfied: qiskit>=1.1.0 in /usr/local/lib/python3.10/dist-packages (from qiskit-aer) (1.2.4)\n",
            "Requirement already satisfied: numpy>=1.16.3 in /usr/local/lib/python3.10/dist-packages (from qiskit-aer) (1.26.4)\n",
            "Requirement already satisfied: scipy>=1.0 in /usr/local/lib/python3.10/dist-packages (from qiskit-aer) (1.13.1)\n",
            "Requirement already satisfied: psutil>=5 in /usr/local/lib/python3.10/dist-packages (from qiskit-aer) (5.9.5)\n",
            "Requirement already satisfied: rustworkx>=0.15.0 in /usr/local/lib/python3.10/dist-packages (from qiskit>=1.1.0->qiskit-aer) (0.15.1)\n",
            "Requirement already satisfied: sympy>=1.3 in /usr/local/lib/python3.10/dist-packages (from qiskit>=1.1.0->qiskit-aer) (1.13.1)\n",
            "Requirement already satisfied: dill>=0.3 in /usr/local/lib/python3.10/dist-packages (from qiskit>=1.1.0->qiskit-aer) (0.3.9)\n",
            "Requirement already satisfied: python-dateutil>=2.8.0 in /usr/local/lib/python3.10/dist-packages (from qiskit>=1.1.0->qiskit-aer) (2.8.2)\n",
            "Requirement already satisfied: stevedore>=3.0.0 in /usr/local/lib/python3.10/dist-packages (from qiskit>=1.1.0->qiskit-aer) (5.3.0)\n",
            "Requirement already satisfied: typing-extensions in /usr/local/lib/python3.10/dist-packages (from qiskit>=1.1.0->qiskit-aer) (4.12.2)\n",
            "Requirement already satisfied: symengine<0.14,>=0.11 in /usr/local/lib/python3.10/dist-packages (from qiskit>=1.1.0->qiskit-aer) (0.13.0)\n",
            "Requirement already satisfied: six>=1.5 in /usr/local/lib/python3.10/dist-packages (from python-dateutil>=2.8.0->qiskit>=1.1.0->qiskit-aer) (1.16.0)\n",
            "Requirement already satisfied: pbr>=2.0.0 in /usr/local/lib/python3.10/dist-packages (from stevedore>=3.0.0->qiskit>=1.1.0->qiskit-aer) (6.1.0)\n",
            "Requirement already satisfied: mpmath<1.4,>=1.1.0 in /usr/local/lib/python3.10/dist-packages (from sympy>=1.3->qiskit>=1.1.0->qiskit-aer) (1.3.0)\n",
            "Downloading qiskit_aer-0.15.1-cp310-cp310-manylinux_2_17_x86_64.manylinux2014_x86_64.whl (12.3 MB)\n",
            "\u001b[2K   \u001b[90m━━━━━━━━━━━━━━━━━━━━━━━━━━━━━━━━━━━━━━━━\u001b[0m \u001b[32m12.3/12.3 MB\u001b[0m \u001b[31m89.3 MB/s\u001b[0m eta \u001b[36m0:00:00\u001b[0m\n",
            "\u001b[?25hInstalling collected packages: qiskit-aer\n",
            "Successfully installed qiskit-aer-0.15.1\n",
            "Collecting pylatexenc\n",
            "  Downloading pylatexenc-2.10.tar.gz (162 kB)\n",
            "\u001b[2K     \u001b[90m━━━━━━━━━━━━━━━━━━━━━━━━━━━━━━━━━━━━━━━━\u001b[0m \u001b[32m162.6/162.6 kB\u001b[0m \u001b[31m6.4 MB/s\u001b[0m eta \u001b[36m0:00:00\u001b[0m\n",
            "\u001b[?25h  Preparing metadata (setup.py) ... \u001b[?25l\u001b[?25hdone\n",
            "Building wheels for collected packages: pylatexenc\n",
            "  Building wheel for pylatexenc (setup.py) ... \u001b[?25l\u001b[?25hdone\n",
            "  Created wheel for pylatexenc: filename=pylatexenc-2.10-py3-none-any.whl size=136816 sha256=753bc7eaf39d85f29b2b50106d8f1dd58e4f901d5d6e3cc98a0fbce2275eaa92\n",
            "  Stored in directory: /root/.cache/pip/wheels/d3/31/8b/e09b0386afd80cfc556c00408c9aeea5c35c4d484a9c762fd5\n",
            "Successfully built pylatexenc\n",
            "Installing collected packages: pylatexenc\n",
            "Successfully installed pylatexenc-2.10\n"
          ]
        }
      ],
      "source": [
        "!pip install -U qiskit\n",
        "!pip install qiskit-aer\n",
        "!pip install pylatexenc"
      ]
    },
    {
      "cell_type": "code",
      "source": [
        "from qiskit import QuantumCircuit, QuantumRegister, transpile, assemble\n",
        "from qiskit.visualization import circuit_drawer\n",
        "from qiskit.visualization import plot_state_qsphere\n",
        "from qiskit.visualization import plot_histogram\n",
        "from qiskit_aer import AerSimulator\n",
        "from qiskit_aer import Aer\n",
        "import matplotlib.pyplot as plt\n",
        "import random\n",
        "import numpy as np\n"
      ],
      "metadata": {
        "id": "cneR3D0DubkZ"
      },
      "execution_count": 2,
      "outputs": []
    },
    {
      "cell_type": "code",
      "source": [],
      "metadata": {
        "id": "yMxfD1eYvXpv"
      },
      "execution_count": 2,
      "outputs": []
    },
    {
      "cell_type": "markdown",
      "source": [
        "**State Initialization stage - ALICE**"
      ],
      "metadata": {
        "id": "RjyV9x6avWn3"
      }
    },
    {
      "cell_type": "code",
      "source": [
        "\"\"\"\n",
        "# Step 1: Create the Bell state |ψ+> = (|01⟩ + |10⟩) / √2\n",
        "qc = QuantumCircuit(2)\n",
        "\n",
        "# Prepare |ψ+>\n",
        "qc.h(0)          # Hadamard on qubit 0\n",
        "qc.cx(0, 1)      # CNOT with control qubit 0, target qubit 1\n",
        "\n",
        "# Step 2: Randomly apply one of the four unitary operations U_ab\n",
        "# Define U_ab as separate functions for clarity\n",
        "def U_00(qc):\n",
        "    # U_00 = I (Identity operation, no change needed)\n",
        "    pass\n",
        "\n",
        "def U_01(qc):\n",
        "    # U_01: Apply Z gate to qubit 0\n",
        "    qc.z(0)\n",
        "\n",
        "def U_10(qc):\n",
        "    # U_10: Apply X gate to qubit 0\n",
        "    qc.x(0)\n",
        "\n",
        "def U_11(qc):\n",
        "    # U_11: Apply X and Z (XZ) on qubit 0\n",
        "    qc.x(0)\n",
        "    qc.z(0)\n",
        "\n",
        "# Randomly choose one of the four operations\n",
        "operation = random.choice([U_00, U_01, U_10, U_11])\n",
        "operation(qc)\n",
        "\n",
        "# Step 3: Output circuit to see the configuration\n",
        "qc.draw('mpl')\n",
        "\"\"\""
      ],
      "metadata": {
        "colab": {
          "base_uri": "https://localhost:8080/",
          "height": 87
        },
        "id": "IlR_WMTCvSPc",
        "outputId": "4a0a4414-2c9d-4dbe-c6b2-09d04878a302"
      },
      "execution_count": 3,
      "outputs": [
        {
          "output_type": "execute_result",
          "data": {
            "text/plain": [
              "\"\\n# Step 1: Create the Bell state |ψ+> = (|01⟩ + |10⟩) / √2\\nqc = QuantumCircuit(2)\\n\\n# Prepare |ψ+>\\nqc.h(0)          # Hadamard on qubit 0\\nqc.cx(0, 1)      # CNOT with control qubit 0, target qubit 1\\n\\n# Step 2: Randomly apply one of the four unitary operations U_ab\\n# Define U_ab as separate functions for clarity\\ndef U_00(qc):\\n    # U_00 = I (Identity operation, no change needed)\\n    pass\\n\\ndef U_01(qc):\\n    # U_01: Apply Z gate to qubit 0\\n    qc.z(0)\\n\\ndef U_10(qc):\\n    # U_10: Apply X gate to qubit 0\\n    qc.x(0)\\n\\ndef U_11(qc):\\n    # U_11: Apply X and Z (XZ) on qubit 0\\n    qc.x(0)\\n    qc.z(0)\\n\\n# Randomly choose one of the four operations\\noperation = random.choice([U_00, U_01, U_10, U_11])\\noperation(qc)\\n\\n# Step 3: Output circuit to see the configuration\\nqc.draw('mpl')\\n\""
            ],
            "application/vnd.google.colaboratory.intrinsic+json": {
              "type": "string"
            }
          },
          "metadata": {},
          "execution_count": 3
        }
      ]
    },
    {
      "cell_type": "markdown",
      "source": [
        "**# Step 1: Create the Bell state |ψ+> = (|01⟩ + |10⟩) / √2**"
      ],
      "metadata": {
        "id": "pzMr8NpJbtH1"
      }
    },
    {
      "cell_type": "code",
      "source": [
        "\n",
        "qc = QuantumCircuit(4)  # 4 qubits: 0-1 are Alice's, 2-3 are Bob's and Charlie's\n",
        "\n",
        "# Prepare |ψ+> between qubits 0 and 1 (Alice's pair)\n",
        "qc.h(0)\n",
        "qc.cx(0, 1)"
      ],
      "metadata": {
        "colab": {
          "base_uri": "https://localhost:8080/"
        },
        "id": "FGl4wm56a8NV",
        "outputId": "fecb31e2-f19b-4ce1-ed19-bf14b2637b78"
      },
      "execution_count": 4,
      "outputs": [
        {
          "output_type": "execute_result",
          "data": {
            "text/plain": [
              "<qiskit.circuit.instructionset.InstructionSet at 0x7800101d9030>"
            ]
          },
          "metadata": {},
          "execution_count": 4
        }
      ]
    },
    {
      "cell_type": "code",
      "source": [
        "qc.draw('mpl')"
      ],
      "metadata": {
        "colab": {
          "base_uri": "https://localhost:8080/",
          "height": 320
        },
        "id": "o7zdSPIDy4HB",
        "outputId": "90c7fb5c-90ee-467c-85a8-38b3c935d301"
      },
      "execution_count": 5,
      "outputs": [
        {
          "output_type": "execute_result",
          "data": {
            "text/plain": [
              "<Figure size 287.496x367.889 with 1 Axes>"
            ],
            "image/png": "[encoded data removed]"
          },
          "metadata": {},
          "execution_count": 5
        }
      ]
    },
    {
      "cell_type": "markdown",
      "source": [
        "# Step 2: Apply random U_ab operations for Alice, Bob, and **Charlie**"
      ],
      "metadata": {
        "id": "2jBtokvFbwgd"
      }
    },
    {
      "cell_type": "code",
      "source": [
        "def apply_U_ab(qc, qubit, a, b):\n",
        "    if a == 1:\n",
        "        qc.x(qubit)  # Bit flip if a = 1\n",
        "    if b == 1:\n",
        "        qc.z(qubit)  # Phase flip if b = 1\n",
        "\n",
        "# Alice applies a random U_ab on her qubits (qubits 0 and 1)\n",
        "a_Alice, b_Alice = random.choice([(0, 0), (0, 1), (1, 0), (1, 1)])\n",
        "apply_U_ab(qc, 0, a_Alice, b_Alice)\n",
        "\n",
        "# Bob applies a random U_ab on his qubit (qubit 2)\n",
        "a_Bob, b_Bob = random.choice([(0, 0), (0, 1), (1, 0), (1, 1)])\n",
        "apply_U_ab(qc, 2, a_Bob, b_Bob)\n",
        "\n",
        "# Charlie applies a random U_ab on his qubit (qubit 3)\n",
        "a_Charlie, b_Charlie = random.choice([(0, 0), (0, 1), (1, 0), (1, 1)])\n",
        "apply_U_ab(qc, 3, a_Charlie, b_Charlie)"
      ],
      "metadata": {
        "id": "zjWG4eLccFAX"
      },
      "execution_count": 6,
      "outputs": []
    },
    {
      "cell_type": "code",
      "source": [
        "qc.draw('mpl')"
      ],
      "metadata": {
        "colab": {
          "base_uri": "https://localhost:8080/",
          "height": 320
        },
        "id": "wyzQSjXczA6J",
        "outputId": "f5492bc7-1b73-4a8b-f14a-421faee5ee03"
      },
      "execution_count": 7,
      "outputs": [
        {
          "output_type": "execute_result",
          "data": {
            "text/plain": [
              "<Figure size 371.107x367.889 with 1 Axes>"
            ],
            "image/png": "[encoded data removed]"
          },
          "metadata": {},
          "execution_count": 7
        }
      ]
    },
    {
      "cell_type": "markdown",
      "source": [
        "**# Step 3: Bell-state measurement by David**\n",
        "# To simulate Bell state analysis (BSA) for each pair, we perform a Bell basis measurement."
      ],
      "metadata": {
        "id": "tvZUQDHFc0h_"
      }
    },
    {
      "cell_type": "code",
      "source": [
        "# Measure qubits 0 and 2 in the Bell basis\n",
        "qc.cx(0, 2)\n",
        "qc.h(0)\n",
        "\n",
        "# Measure qubits 1 and 3 in the Bell basis\n",
        "qc.cx(1, 3)\n",
        "qc.h(1)\n",
        "\n",
        "print(\"Circuit Before measurement\")\n",
        "qc.draw('mpl')\n",
        "\n",
        "# Add measurement operations to all qubits\n",
        "qc.measure_all()\n",
        "\n",
        "print(\"Circuit After measurement\")\n",
        "qc.draw('mpl')\n",
        "\n",
        "# Execute the circuit on a simulator\n",
        "#simulator = Aer.get_backend('qasm_simulator')\n",
        "simulator = AerSimulator()\n",
        "transpiled_qc = transpile(qc, simulator)\n",
        "result = simulator.run(transpiled_qc, shots=1024).result()\n",
        "counts = result.get_counts(qc)\n",
        "\n",
        "# Print the measurement results\n",
        "print(\"Measurement Results:\")\n",
        "print(counts)\n",
        "#result = execute(qc, backend=simulator, shots=1024).result()\n",
        "#counts = result.get_counts(qc)"
      ],
      "metadata": {
        "colab": {
          "base_uri": "https://localhost:8080/"
        },
        "id": "cGGjWgR1c5DV",
        "outputId": "d28c468f-6a96-4d81-afe5-828b2933642c"
      },
      "execution_count": 8,
      "outputs": [
        {
          "output_type": "stream",
          "name": "stdout",
          "text": [
            "Circuit Before measurement\n",
            "Circuit After measurement\n",
            "Measurement Results:\n",
            "{'1101': 134, '0011': 135, '0010': 142, '0000': 123, '1100': 126, '1110': 128, '0001': 107, '1111': 129}\n"
          ]
        }
      ]
    },
    {
      "cell_type": "code",
      "source": [
        "# Modify all count results\n",
        "def print_final_result(result):\n",
        "    print(\"Final Result (Formatted):\\n\")\n",
        "    for binary_key, value in result.items():\n",
        "        print(f\"Binary sequence: {binary_key}, Frequency: {value}\")"
      ],
      "metadata": {
        "id": "I4gv-wKLfTHB"
      },
      "execution_count": 9,
      "outputs": []
    },
    {
      "cell_type": "code",
      "source": [
        "print_final_result(counts)\n"
      ],
      "metadata": {
        "colab": {
          "base_uri": "https://localhost:8080/"
        },
        "id": "NHf93RMSfZYa",
        "outputId": "7deb4672-233d-4238-fd53-a4b8c6c03592"
      },
      "execution_count": 10,
      "outputs": [
        {
          "output_type": "stream",
          "name": "stdout",
          "text": [
            "Final Result (Formatted):\n",
            "\n",
            "Binary sequence: 1101, Frequency: 134\n",
            "Binary sequence: 0011, Frequency: 135\n",
            "Binary sequence: 0010, Frequency: 142\n",
            "Binary sequence: 0000, Frequency: 123\n",
            "Binary sequence: 1100, Frequency: 126\n",
            "Binary sequence: 1110, Frequency: 128\n",
            "Binary sequence: 0001, Frequency: 107\n",
            "Binary sequence: 1111, Frequency: 129\n"
          ]
        }
      ]
    },
    {
      "cell_type": "code",
      "source": [
        "expected_results_table_I = {\n",
        "    # Format: (a_B, b_B, a_C, b_C): Expected Bell State\n",
        "    (0, 0, 0, 0): \"psi+\",\n",
        "    (0, 0, 0, 1): \"phi-\",\n",
        "    (0, 0, 1, 0): \"psi-\",\n",
        "    (0, 0, 1, 1): \"phi+\",\n",
        "\n",
        "    (0, 1, 0, 0): \"psi-\",\n",
        "    (0, 1, 0, 1): \"phi+\",\n",
        "    (0, 1, 1, 0): \"psi+\",\n",
        "    (0, 1, 1, 1): \"phi-\",\n",
        "\n",
        "    (1, 0, 0, 0): \"phi+\",\n",
        "    (1, 0, 0, 1): \"psi-\",\n",
        "    (1, 0, 1, 0): \"phi-\",\n",
        "    (1, 0, 1, 1): \"psi+\",\n",
        "\n",
        "    (1, 1, 0, 0): \"phi-\",\n",
        "    (1, 1, 0, 1): \"psi+\",\n",
        "    (1, 1, 1, 0): \"phi+\",\n",
        "    (1, 1, 1, 1): \"psi-\"\n",
        "}\n",
        "\n",
        "expected_results_table_II = {\n",
        "    # Format: (a_B, b_B, a_C, b_C): Expected Bell State\n",
        "    (0, 0, 0, 0): \"phi+\",\n",
        "    (0, 0, 0, 1): \"psi-\",\n",
        "    (0, 0, 1, 0): \"phi-\",\n",
        "    (0, 0, 1, 1): \"psi+\",\n",
        "\n",
        "    (0, 1, 0, 0): \"phi-\",\n",
        "    (0, 1, 0, 1): \"psi+\",\n",
        "    (0, 1, 1, 0): \"phi+\",\n",
        "    (0, 1, 1, 1): \"psi-\",\n",
        "\n",
        "    (1, 0, 0, 0): \"psi+\",\n",
        "    (1, 0, 0, 1): \"phi-\",\n",
        "    (1, 0, 1, 0): \"psi-\",\n",
        "    (1, 0, 1, 1): \"phi+\",\n",
        "\n",
        "    (1, 1, 0, 0): \"psi-\",\n",
        "    (1, 1, 0, 1): \"phi+\",\n",
        "    (1, 1, 1, 0): \"psi+\",\n",
        "    (1, 1, 1, 1): \"phi-\"\n",
        "}\n",
        "\n",
        "# Mapping from measurement result to Bell state outcome\n",
        "measurement_to_bell = {\n",
        "    \"00\": \"psi+\",  # Measurement outcome \"00\" -> |ψ+>\n",
        "    \"01\": \"psi-\",  # Measurement outcome \"01\" -> |ψ->\n",
        "    \"10\": \"phi+\",  # Measurement outcome \"10\" -> |φ+>\n",
        "    \"11\": \"phi-\"   # Measurement outcome \"11\" -> |φ->\n",
        "}"
      ],
      "metadata": {
        "id": "-W81LdNzh2en"
      },
      "execution_count": 11,
      "outputs": []
    },
    {
      "cell_type": "code",
      "source": [
        "def check_correlation(result_key, a_B, b_B, a_C, b_C, table_choice=\"I\"):\n",
        "    \"\"\"\n",
        "    Checks if the measurement result matches the expected Bell state\n",
        "    based on the operations performed by Bob and Charlie.\n",
        "\n",
        "    Parameters:\n",
        "    - result_key: the measured outcome from the BSA (e.g., '00', '01', '10', '11').\n",
        "    - a_B, b_B: operations applied by Bob\n",
        "    - a_C, b_C: operations applied by Charlie\n",
        "    - table_choice: \"I\" or \"II\", selects the expected results table.\n",
        "\n",
        "    Returns:\n",
        "    - True if the result matches the expected Bell state, False otherwise.\n",
        "    \"\"\"\n",
        "    # Choose the correct expected results table based on the protocol step\n",
        "    if table_choice == \"I\":\n",
        "        expected_results = expected_results_table_I\n",
        "    elif table_choice == \"II\":\n",
        "        expected_results = expected_results_table_II\n",
        "    else:\n",
        "        raise ValueError(\"table_choice must be 'I' or 'II'\")\n",
        "\n",
        "    # Lookup the expected Bell state for the given operations (a_B, b_B, a_C, b_C)\n",
        "    expected_bell_state = expected_results.get((a_B, b_B, a_C, b_C))\n",
        "\n",
        "    # Determine the actual Bell state from the measurement result\n",
        "    measured_bell_state = measurement_to_bell.get(result_key[:2])  # Only use the first 2 bits of result\n",
        "\n",
        "    # Return True if they match, False otherwise\n",
        "    return measured_bell_state == expected_bell_state"
      ],
      "metadata": {
        "id": "KtSqC3pMsHfB"
      },
      "execution_count": 12,
      "outputs": []
    },
    {
      "cell_type": "markdown",
      "source": [
        "**# Step 4: Post-Processing for Error Detection**"
      ],
      "metadata": {
        "id": "d65cPo4Sf-B8"
      }
    },
    {
      "cell_type": "code",
      "source": [
        "\"\"\"\n",
        "# Simulate Alice's random selection of a subset of results for error checking\n",
        "sample_size = int(0.1 * len(counts))  # Use 10% of data as a sample\n",
        "sample_keys = random.sample(list(counts.keys()), sample_size)\n",
        "\n",
        "# Define a threshold error rate\n",
        "error_threshold = 0.1\n",
        "\n",
        "# Example values for operations performed by Bob and Charlie\n",
        "a_B, b_B, a_C, b_C = 0, 0, 1, 0  # Replace with actual values\n",
        "table_choice = \"I\"  # Choose based on which table you are using\n",
        "\n",
        "# Count the number of mismatches in the sample\n",
        "mismatches = 0\n",
        "for key in sample_keys:\n",
        "    # For each sampled result, check if it matches expected correlations\n",
        "    # Example: check_correlation() returns True if correlations match, False otherwise\n",
        "    if not check_correlation(key, a_B, b_B, a_C, b_C, table_choice):\n",
        "        mismatches += 1\n",
        "\n",
        "# Calculate error rate\n",
        "error_rate = mismatches / sample_size\n",
        "\n",
        "# Print error rate and determine if protocol continues\n",
        "print(f\"Error rate in sample: {error_rate:.2%}\")\n",
        "if error_rate > error_threshold:\n",
        "    print(\"Error rate exceeds threshold. Protocol terminated due to potential eavesdropping.\")\n",
        "else:\n",
        "    print(\"Error rate is within acceptable limits. Protocol proceeds to the next step.\")\n",
        "\n",
        "# Optional: Display the histogram of all measurement outcomes\n",
        "plot_histogram(counts)\n",
        "\"\"\""
      ],
      "metadata": {
        "colab": {
          "base_uri": "https://localhost:8080/",
          "height": 105
        },
        "id": "w4rlQ7KwgA6K",
        "outputId": "e63620a4-f03b-40ab-d4af-43e7f14fc739"
      },
      "execution_count": 13,
      "outputs": [
        {
          "output_type": "execute_result",
          "data": {
            "text/plain": [
              "'\\n# Simulate Alice\\'s random selection of a subset of results for error checking\\nsample_size = int(0.1 * len(counts))  # Use 10% of data as a sample\\nsample_keys = random.sample(list(counts.keys()), sample_size)\\n\\n# Define a threshold error rate\\nerror_threshold = 0.1\\n\\n# Example values for operations performed by Bob and Charlie\\na_B, b_B, a_C, b_C = 0, 0, 1, 0  # Replace with actual values\\ntable_choice = \"I\"  # Choose based on which table you are using\\n\\n# Count the number of mismatches in the sample\\nmismatches = 0\\nfor key in sample_keys:\\n    # For each sampled result, check if it matches expected correlations\\n    # Example: check_correlation() returns True if correlations match, False otherwise\\n    if not check_correlation(key, a_B, b_B, a_C, b_C, table_choice):\\n        mismatches += 1\\n\\n# Calculate error rate\\nerror_rate = mismatches / sample_size\\n\\n# Print error rate and determine if protocol continues\\nprint(f\"Error rate in sample: {error_rate:.2%}\")\\nif error_rate > error_threshold:\\n    print(\"Error rate exceeds threshold. Protocol terminated due to potential eavesdropping.\")\\nelse:\\n    print(\"Error rate is within acceptable limits. Protocol proceeds to the next step.\")\\n\\n# Optional: Display the histogram of all measurement outcomes\\nplot_histogram(counts)\\n'"
            ],
            "application/vnd.google.colaboratory.intrinsic+json": {
              "type": "string"
            }
          },
          "metadata": {},
          "execution_count": 13
        }
      ]
    },
    {
      "cell_type": "code",
      "source": [
        "# Parameters for error checking\n",
        "error_threshold = 0.1  # Example threshold (10%)\n",
        "#a_B, b_B, a_C, b_C = 0, 0, 1, 0\n",
        "a_B, b_B, a_C, b_C = 0, 1, 1, 0  # Example operations by Bob and Charlie\n",
        "table_choice = \"I\"  # Use Table I for this example\n",
        "\n",
        "# Sample 10% of the total measurement counts for error checking\n",
        "total_samples = sum(counts.values())\n",
        "sample_size = int(0.1 * total_samples)  # 10% of total outcomes\n",
        "\n",
        "# Flattened list of results according to their frequencies\n",
        "flat_counts = [outcome for outcome, freq in counts.items() for _ in range(freq)]\n",
        "sampled_outcomes = random.sample(flat_counts, sample_size)  # Random sample of outcomes based on counts\n",
        "\n",
        "\n",
        "# Count mismatches in the sample\n",
        "mismatches = sum(\n",
        "    1 for outcome in sampled_outcomes if not check_correlation(outcome, a_B, b_B, a_C, b_C, table_choice)\n",
        ")\n",
        "\n",
        "# Calculate the error rate\n",
        "error_rate = mismatches / sample_size\n",
        "\n",
        "# Print error rate and determine if protocol continues\n",
        "print(f\"Error rate in sample: {error_rate:.2%}\")\n",
        "if error_rate > error_threshold:\n",
        "    print(\"Error rate exceeds threshold. Protocol terminated due to potential eavesdropping.\")\n",
        "else:\n",
        "    print(\"Error rate is within acceptable limits. Protocol proceeds to the next step.\")\n",
        "\n",
        "# Optional: Display the histogram of all measurement outcomes\n",
        "plot_histogram(counts)"
      ],
      "metadata": {
        "colab": {
          "base_uri": "https://localhost:8080/",
          "height": 489
        },
        "id": "J6B9gr1yxuCF",
        "outputId": "8ef6dca2-50f9-478b-cf5c-9e6c5a6dc647"
      },
      "execution_count": 14,
      "outputs": [
        {
          "output_type": "stream",
          "name": "stdout",
          "text": [
            "Error rate in sample: 52.94%\n",
            "Error rate exceeds threshold. Protocol terminated due to potential eavesdropping.\n"
          ]
        },
        {
          "output_type": "execute_result",
          "data": {
            "text/plain": [
              "<Figure size 640x480 with 1 Axes>"
            ],
            "image/png": "[encoded data removed]"
          },
          "metadata": {},
          "execution_count": 14
        }
      ]
    }
  ]
}